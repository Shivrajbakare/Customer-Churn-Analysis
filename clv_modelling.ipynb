{
 "cells": [
  {
   "cell_type": "code",
   "execution_count": null,
   "id": "083dc09a",
   "metadata": {},
   "outputs": [],
   "source": [
    "import joblib\n",
    "\n",
    "# Load the saved model  XBG classifier\n",
    "model = joblib.load('xgb_churn_model.pkl')"
   ]
  },
  {
   "cell_type": "code",
   "execution_count": 30,
   "id": "03e1527d",
   "metadata": {},
   "outputs": [
    {
     "name": "stdout",
     "output_type": "stream",
     "text": [
      "==== Retention Strategy ROI Summary ====\n",
      "Total Customers: 7032\n",
      "Total Estimated Retained Revenue ($): 7731356.49\n",
      "Total Intervention Cost ($): 70300.0\n",
      "Estimated ROI: 109.98x\n",
      "   customerID  MonthlyCharges  Churn_Probability          CLV RiskSegment  \\\n",
      "0  7590-VHVEG           29.85           0.509028    38.116789         Low   \n",
      "1  5575-GNVDE           56.95           0.014853  2492.237815      Medium   \n",
      "2  3668-QPYBK           53.85           0.580316    60.316250      Medium   \n",
      "3  7795-CFOCW           42.30           0.015193  1809.660481         Low   \n",
      "4  9237-HQITU           70.70           0.692394    66.371140      Medium   \n",
      "\n",
      "   RetainedRevenue  InterventionCost  \n",
      "0         0.000000               0.0  \n",
      "1       373.835672              10.0  \n",
      "2         9.047438              10.0  \n",
      "3         0.000000               0.0  \n",
      "4         9.955671              10.0  \n"
     ]
    }
   ],
   "source": [
    "import pandas as pd\n",
    "import numpy as np\n",
    "import joblib\n",
    "from sklearn.preprocessing import LabelEncoder\n",
    "\n",
    "# Load trained model\n",
    "model = joblib.load('xgb_churn_model.pkl')\n",
    "\n",
    "\n",
    "\n",
    "# Load data\n",
    "df = pd.read_csv('Telco-Customer-Churn.csv')\n",
    "df = df[df['TotalCharges'] != ' '].copy()\n",
    "df['TotalCharges'] = df['TotalCharges'].astype(float)\n",
    "\n",
    "label_encoders = joblib.load('label_encoders.pkl')\n",
    "\n",
    "# Drop customerID column if it exists (you already saved it separately)\n",
    "if 'customerID' in df.columns:\n",
    "    df.drop('customerID', axis=1, inplace=True)\n",
    "\n",
    "# Binary encode the target column using mapping (no need for LabelEncoder)\n",
    "df['Churn'] = df['Churn'].map({'Yes': 1, 'No': 0})\n",
    "\n",
    "# Apply saved encoders to each object column\n",
    "for col, le in label_encoders.items():\n",
    "    if col in df.columns:\n",
    "        df[col] = le.transform(df[col])  # 🔁 Use transform, not fit_transform\n",
    "\n",
    "# Select features used for training\n",
    "X = df.drop(columns=['Churn']) \n",
    "\n",
    "# Ensure all data types are numeric\n",
    "X = X.apply(pd.to_numeric, errors='raise')\n",
    "\n",
    "\n",
    "# Predict churn probabilities\n",
    "df['Churn_Probability'] = model.predict_proba(X)[:, 1]\n",
    "\n",
    "# Add back customer ID for reporting\n",
    "df['customerID'] = customer_ids\n",
    "\n",
    "\n",
    "GROSS_MARGIN = 0.65\n",
    "df['CLV'] = (df['MonthlyCharges'] * GROSS_MARGIN) / df['Churn_Probability']\n",
    "df['RiskScore'] = df['CLV'] * df['Churn_Probability']\n",
    "df['RiskSegment'] = pd.qcut(df['RiskScore'], q=3, labels=['Low', 'Medium', 'High'])\n",
    "\n",
    "intervention_effectiveness = {'High': 0.30, 'Medium': 0.15, 'Low': 0.00}\n",
    "intervention_cost = {'High': 20, 'Medium': 10, 'Low': 0}\n",
    "\n",
    "df['RetainedRevenue'] = df.apply(\n",
    "    lambda row: row['CLV'] * intervention_effectiveness[row['RiskSegment']], axis=1\n",
    ")\n",
    "df['InterventionCost'] = df['RiskSegment'].map(intervention_cost).astype(float)\n",
    "\n",
    "total_retained = df['RetainedRevenue'].sum()\n",
    "total_cost = df['InterventionCost'].sum()\n",
    "roi = total_retained / total_cost if total_cost > 0 else 0\n",
    "\n",
    "# Print Summary\n",
    "print(\"==== Retention Strategy ROI Summary ====\")\n",
    "print(f\"Total Customers: {len(df)}\")\n",
    "print(f\"Total Estimated Retained Revenue ($): {round(total_retained, 2)}\")\n",
    "print(f\"Total Intervention Cost ($): {round(total_cost, 2)}\")\n",
    "print(f\"Estimated ROI: {round(roi, 2)}x\")\n",
    "\n",
    "# Preview\n",
    "print(df[['customerID', 'MonthlyCharges', 'Churn_Probability', 'CLV', 'RiskSegment', 'RetainedRevenue', 'InterventionCost']].head())\n"
   ]
  },
  {
   "cell_type": "code",
   "execution_count": null,
   "id": "42d20d41",
   "metadata": {},
   "outputs": [],
   "source": []
  }
 ],
 "metadata": {
  "kernelspec": {
   "display_name": "Python 3",
   "language": "python",
   "name": "python3"
  },
  "language_info": {
   "codemirror_mode": {
    "name": "ipython",
    "version": 3
   },
   "file_extension": ".py",
   "mimetype": "text/x-python",
   "name": "python",
   "nbconvert_exporter": "python",
   "pygments_lexer": "ipython3",
   "version": "3.10.0"
  }
 },
 "nbformat": 4,
 "nbformat_minor": 5
}
