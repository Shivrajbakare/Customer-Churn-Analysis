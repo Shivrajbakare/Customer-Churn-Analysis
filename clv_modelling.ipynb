{
 "cells": [
  {
   "cell_type": "code",
   "execution_count": 1,
   "id": "083dc09a",
   "metadata": {},
   "outputs": [
    {
     "ename": "FileNotFoundError",
     "evalue": "[Errno 2] No such file or directory: 'xgb_churn_model.pkl'",
     "output_type": "error",
     "traceback": [
      "\u001b[1;31m---------------------------------------------------------------------------\u001b[0m",
      "\u001b[1;31mFileNotFoundError\u001b[0m                         Traceback (most recent call last)",
      "Cell \u001b[1;32mIn[1], line 4\u001b[0m\n\u001b[0;32m      1\u001b[0m \u001b[38;5;28;01mimport\u001b[39;00m \u001b[38;5;21;01mjoblib\u001b[39;00m\n\u001b[0;32m      3\u001b[0m \u001b[38;5;66;03m# Load the saved model  XBG classifier\u001b[39;00m\n\u001b[1;32m----> 4\u001b[0m model \u001b[38;5;241m=\u001b[39m \u001b[43mjoblib\u001b[49m\u001b[38;5;241;43m.\u001b[39;49m\u001b[43mload\u001b[49m\u001b[43m(\u001b[49m\u001b[38;5;124;43m'\u001b[39;49m\u001b[38;5;124;43mxgb_churn_model.pkl\u001b[39;49m\u001b[38;5;124;43m'\u001b[39;49m\u001b[43m)\u001b[49m\n",
      "File \u001b[1;32m~\\AppData\\Local\\Packages\\PythonSoftwareFoundation.Python.3.12_qbz5n2kfra8p0\\LocalCache\\local-packages\\Python312\\site-packages\\joblib\\numpy_pickle.py:735\u001b[0m, in \u001b[0;36mload\u001b[1;34m(filename, mmap_mode, ensure_native_byte_order)\u001b[0m\n\u001b[0;32m    733\u001b[0m         obj \u001b[38;5;241m=\u001b[39m _unpickle(fobj, ensure_native_byte_order\u001b[38;5;241m=\u001b[39mensure_native_byte_order)\n\u001b[0;32m    734\u001b[0m \u001b[38;5;28;01melse\u001b[39;00m:\n\u001b[1;32m--> 735\u001b[0m     \u001b[38;5;28;01mwith\u001b[39;00m \u001b[38;5;28;43mopen\u001b[39;49m\u001b[43m(\u001b[49m\u001b[43mfilename\u001b[49m\u001b[43m,\u001b[49m\u001b[43m \u001b[49m\u001b[38;5;124;43m\"\u001b[39;49m\u001b[38;5;124;43mrb\u001b[39;49m\u001b[38;5;124;43m\"\u001b[39;49m\u001b[43m)\u001b[49m \u001b[38;5;28;01mas\u001b[39;00m f:\n\u001b[0;32m    736\u001b[0m         \u001b[38;5;28;01mwith\u001b[39;00m _validate_fileobject_and_memmap(f, filename, mmap_mode) \u001b[38;5;28;01mas\u001b[39;00m (\n\u001b[0;32m    737\u001b[0m             fobj,\n\u001b[0;32m    738\u001b[0m             validated_mmap_mode,\n\u001b[0;32m    739\u001b[0m         ):\n\u001b[0;32m    740\u001b[0m             \u001b[38;5;28;01mif\u001b[39;00m \u001b[38;5;28misinstance\u001b[39m(fobj, \u001b[38;5;28mstr\u001b[39m):\n\u001b[0;32m    741\u001b[0m                 \u001b[38;5;66;03m# if the returned file object is a string, this means we\u001b[39;00m\n\u001b[0;32m    742\u001b[0m                 \u001b[38;5;66;03m# try to load a pickle file generated with an version of\u001b[39;00m\n\u001b[0;32m    743\u001b[0m                 \u001b[38;5;66;03m# Joblib so we load it with joblib compatibility function.\u001b[39;00m\n",
      "\u001b[1;31mFileNotFoundError\u001b[0m: [Errno 2] No such file or directory: 'xgb_churn_model.pkl'"
     ]
    }
   ],
   "source": [
    "import joblib\n",
    "\n",
    "# Load the saved model  XBG classifier\n",
    "model = joblib.load('xgb_churn_model.pkl')"
   ]
  },
  {
   "cell_type": "code",
   "execution_count": 30,
   "id": "03e1527d",
   "metadata": {},
   "outputs": [
    {
     "name": "stdout",
     "output_type": "stream",
     "text": [
      "==== Retention Strategy ROI Summary ====\n",
      "Total Customers: 7032\n",
      "Total Estimated Retained Revenue ($): 7731356.49\n",
      "Total Intervention Cost ($): 70300.0\n",
      "Estimated ROI: 109.98x\n",
      "   customerID  MonthlyCharges  Churn_Probability          CLV RiskSegment  \\\n",
      "0  7590-VHVEG           29.85           0.509028    38.116789         Low   \n",
      "1  5575-GNVDE           56.95           0.014853  2492.237815      Medium   \n",
      "2  3668-QPYBK           53.85           0.580316    60.316250      Medium   \n",
      "3  7795-CFOCW           42.30           0.015193  1809.660481         Low   \n",
      "4  9237-HQITU           70.70           0.692394    66.371140      Medium   \n",
      "\n",
      "   RetainedRevenue  InterventionCost  \n",
      "0         0.000000               0.0  \n",
      "1       373.835672              10.0  \n",
      "2         9.047438              10.0  \n",
      "3         0.000000               0.0  \n",
      "4         9.955671              10.0  \n"
     ]
    }
   ],
   "source": [
    "import pandas as pd\n",
    "import numpy as np\n",
    "import joblib\n",
    "from sklearn.preprocessing import LabelEncoder\n",
    "\n",
    "# Load trained model\n",
    "model = joblib.load('xgb_churn_model.pkl')\n",
    "\n",
    "\n",
    "\n",
    "# Load data\n",
    "df = pd.read_csv('Telco-Customer-Churn.csv')\n",
    "df = df[df['TotalCharges'] != ' '].copy()\n",
    "df['TotalCharges'] = df['TotalCharges'].astype(float)\n",
    "\n",
    "label_encoders = joblib.load('label_encoders.pkl')\n",
    "\n",
    "# Drop customerID column if it exists (you already saved it separately)\n",
    "if 'customerID' in df.columns:\n",
    "    df.drop('customerID', axis=1, inplace=True)\n",
    "\n",
    "# Binary encode the target column using mapping (no need for LabelEncoder)\n",
    "df['Churn'] = df['Churn'].map({'Yes': 1, 'No': 0})\n",
    "\n",
    "# Apply saved encoders to each object column\n",
    "for col, le in label_encoders.items():\n",
    "    if col in df.columns:\n",
    "        df[col] = le.transform(df[col])  # 🔁 Use transform, not fit_transform\n",
    "\n",
    "# Select features used for training\n",
    "X = df.drop(columns=['Churn']) \n",
    "\n",
    "# Ensure all data types are numeric\n",
    "X = X.apply(pd.to_numeric, errors='raise')\n",
    "\n",
    "\n",
    "# Predict churn probabilities\n",
    "df['Churn_Probability'] = model.predict_proba(X)[:, 1]\n",
    "\n",
    "# Add back customer ID for reporting\n",
    "df['customerID'] = customer_ids\n",
    "\n",
    "\n",
    "GROSS_MARGIN = 0.65\n",
    "df['CLV'] = (df['MonthlyCharges'] * GROSS_MARGIN) / df['Churn_Probability']\n",
    "df['RiskScore'] = df['CLV'] * df['Churn_Probability']\n",
    "df['RiskSegment'] = pd.qcut(df['RiskScore'], q=3, labels=['Low', 'Medium', 'High'])\n",
    "\n",
    "intervention_effectiveness = {'High': 0.30, 'Medium': 0.15, 'Low': 0.00}\n",
    "intervention_cost = {'High': 20, 'Medium': 10, 'Low': 0}\n",
    "\n",
    "df['RetainedRevenue'] = df.apply(\n",
    "    lambda row: row['CLV'] * intervention_effectiveness[row['RiskSegment']], axis=1\n",
    ")\n",
    "df['InterventionCost'] = df['RiskSegment'].map(intervention_cost).astype(float)\n",
    "\n",
    "total_retained = df['RetainedRevenue'].sum()\n",
    "total_cost = df['InterventionCost'].sum()\n",
    "roi = total_retained / total_cost if total_cost > 0 else 0\n",
    "\n",
    "# Print Summary\n",
    "print(\"==== Retention Strategy ROI Summary ====\")\n",
    "print(f\"Total Customers: {len(df)}\")\n",
    "print(f\"Total Estimated Retained Revenue ($): {round(total_retained, 2)}\")\n",
    "print(f\"Total Intervention Cost ($): {round(total_cost, 2)}\")\n",
    "print(f\"Estimated ROI: {round(roi, 2)}x\")\n",
    "\n",
    "# Preview\n",
    "print(df[['customerID', 'MonthlyCharges', 'Churn_Probability', 'CLV', 'RiskSegment', 'RetainedRevenue', 'InterventionCost']].head())\n"
   ]
  },
  {
   "cell_type": "code",
   "execution_count": null,
   "id": "42d20d41",
   "metadata": {},
   "outputs": [],
   "source": []
  }
 ],
 "metadata": {
  "kernelspec": {
   "display_name": "Python 3",
   "language": "python",
   "name": "python3"
  },
  "language_info": {
   "codemirror_mode": {
    "name": "ipython",
    "version": 3
   },
   "file_extension": ".py",
   "mimetype": "text/x-python",
   "name": "python",
   "nbconvert_exporter": "python",
   "pygments_lexer": "ipython3",
   "version": "3.12.10"
  }
 },
 "nbformat": 4,
 "nbformat_minor": 5
}
